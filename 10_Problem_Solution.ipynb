{
  "nbformat": 4,
  "nbformat_minor": 0,
  "metadata": {
    "colab": {
      "name": "10_Problem_Solution.ipynb",
      "provenance": [],
      "include_colab_link": true
    },
    "kernelspec": {
      "name": "python3",
      "display_name": "Python 3"
    },
    "language_info": {
      "name": "python"
    }
  },
  "cells": [
    {
      "cell_type": "markdown",
      "metadata": {
        "id": "view-in-github",
        "colab_type": "text"
      },
      "source": [
        "<a href=\"https://colab.research.google.com/github/shrestha001/fmml2021/blob/main/10_Problem_Solution.ipynb\" target=\"_parent\"><img src=\"https://colab.research.google.com/assets/colab-badge.svg\" alt=\"Open In Colab\"/></a>"
      ]
    },
    {
      "cell_type": "code",
      "metadata": {
        "id": "4tHdnVmZSQIR"
      },
      "source": [
        "# Madagascar problem"
      ],
      "execution_count": 8,
      "outputs": []
    },
    {
      "cell_type": "code",
      "metadata": {
        "id": "KkTnYRbjSZ4g"
      },
      "source": [
        "import numpy as np"
      ],
      "execution_count": 19,
      "outputs": []
    },
    {
      "cell_type": "code",
      "metadata": {
        "id": "vbsZHOPVSbYh"
      },
      "source": [
        "A = np.array([[20, 122, 20], [35,180, 35],[70, 300, 30],[50, 220, 65]])\n",
        "x = np.array([[0.05], [0.002], [0.02]])\n",
        "citizen = np.array([['AAA'],['AAB'],['ACA'],['ABB']])"
      ],
      "execution_count": 58,
      "outputs": []
    },
    {
      "cell_type": "code",
      "metadata": {
        "id": "4CvxUBB8U0PA"
      },
      "source": [
        "# 4x3 . 3x1 = 4x1"
      ],
      "execution_count": 11,
      "outputs": []
    },
    {
      "cell_type": "code",
      "metadata": {
        "id": "PSJBzTZzSdzT"
      },
      "source": [
        "y = np.matmul(A,x) - 4.0"
      ],
      "execution_count": 21,
      "outputs": []
    },
    {
      "cell_type": "code",
      "metadata": {
        "id": "7skMCi0Hwdxh",
        "outputId": "a030d8ba-e073-445a-b4da-7af46fb8fac9",
        "colab": {
          "base_uri": "https://localhost:8080/"
        }
      },
      "source": [
        "y"
      ],
      "execution_count": 22,
      "outputs": [
        {
          "output_type": "execute_result",
          "data": {
            "text/plain": [
              "array([[-2.356],\n",
              "       [-1.19 ],\n",
              "       [ 0.7  ],\n",
              "       [ 0.24 ]])"
            ]
          },
          "metadata": {},
          "execution_count": 22
        }
      ]
    },
    {
      "cell_type": "code",
      "metadata": {
        "id": "Um0CIsH1VJPi"
      },
      "source": [
        "Z = np.hstack((A,y))"
      ],
      "execution_count": 23,
      "outputs": []
    },
    {
      "cell_type": "code",
      "metadata": {
        "id": "vQt6XMT8ViYW"
      },
      "source": [
        "def RankArray(A,x):\n",
        "  y = np.dot(A,x) - 4.0\n",
        "  L = np.hstack((A,y))\n",
        "  return L"
      ],
      "execution_count": 50,
      "outputs": []
    },
    {
      "cell_type": "code",
      "metadata": {
        "id": "6VqMLbRWVwL3",
        "outputId": "d652ea99-ef4c-4118-b61b-7713e2173d87",
        "colab": {
          "base_uri": "https://localhost:8080/"
        }
      },
      "source": [
        "print (RankArray(A,x))"
      ],
      "execution_count": 51,
      "outputs": [
        {
          "output_type": "stream",
          "name": "stdout",
          "text": [
            "[[ 2.000e+01  1.220e+02  2.000e+01 -2.356e+00]\n",
            " [ 3.500e+01  1.800e+02  3.500e+01 -1.190e+00]\n",
            " [ 7.000e+01  3.000e+02  3.000e+01  7.000e-01]\n",
            " [ 5.000e+01  2.200e+02  6.500e+01  2.400e-01]]\n"
          ]
        }
      ]
    },
    {
      "cell_type": "code",
      "metadata": {
        "id": "JiaQqOXHxoJR"
      },
      "source": [
        "def covid(A,x):\n",
        "   Z= RankArray(A,x).transpose()\n",
        "   return(Z[-1]>0)\n",
        " "
      ],
      "execution_count": 54,
      "outputs": []
    },
    {
      "cell_type": "code",
      "metadata": {
        "id": "7SXv5VOj9lRX",
        "outputId": "a59eedaf-c9f7-4a11-e00a-9a4251f58414",
        "colab": {
          "base_uri": "https://localhost:8080/"
        }
      },
      "source": [
        "Z= covid(A,x)\n",
        "for i in range(len(Z)):\n",
        "  if (Z[i] == True):\n",
        "    print('{} citizen is at risk'.format(citizen[i]))\n",
        "  else:\n",
        "    print('{} citizen is not at risk'.format(citizen[i]))  "
      ],
      "execution_count": 61,
      "outputs": [
        {
          "output_type": "stream",
          "name": "stdout",
          "text": [
            "['AAA'] citizen is not at risk\n",
            "['AAB'] citizen is not at risk\n",
            "['ACA'] citizen is at risk\n",
            "['ABB'] citizen is at risk\n"
          ]
        }
      ]
    }
  ]
}