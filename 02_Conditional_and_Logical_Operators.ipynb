{
  "nbformat": 4,
  "nbformat_minor": 0,
  "metadata": {
    "colab": {
      "name": "02_Conditional_and_Logical_Operators.ipynb",
      "provenance": [],
      "include_colab_link": true
    },
    "kernelspec": {
      "name": "python3",
      "display_name": "Python 3"
    },
    "language_info": {
      "name": "python"
    }
  },
  "cells": [
    {
      "cell_type": "markdown",
      "metadata": {
        "id": "view-in-github",
        "colab_type": "text"
      },
      "source": [
        "<a href=\"https://colab.research.google.com/github/shrestha001/fmml2021/blob/main/02_Conditional_and_Logical_Operators.ipynb\" target=\"_parent\"><img src=\"https://colab.research.google.com/assets/colab-badge.svg\" alt=\"Open In Colab\"/></a>"
      ]
    },
    {
      "cell_type": "code",
      "metadata": {
        "id": "d_4Xzhe4p5Jh",
        "outputId": "8598eb45-7785-422f-d861-85da869c2937",
        "colab": {
          "base_uri": "https://localhost:8080/"
        }
      },
      "source": [
        "!python --version"
      ],
      "execution_count": 1,
      "outputs": [
        {
          "output_type": "stream",
          "name": "stdout",
          "text": [
            "Python 3.7.11\n"
          ]
        }
      ]
    },
    {
      "cell_type": "markdown",
      "metadata": {
        "id": "LQ7shzxUfj6N"
      },
      "source": [
        "### Conditional and Logical Operators"
      ]
    },
    {
      "cell_type": "markdown",
      "metadata": {
        "id": "PI0fJw10fswU"
      },
      "source": [
        "#### Conditional Operators\n",
        "```\n",
        "< less than \n",
        "> greater than\n",
        "== equal to\n",
        "!= not equal to\n",
        "<= less than or equal to\n",
        ">= greater than or equal to\n",
        "```\n",
        "\n",
        "\n",
        "\n"
      ]
    },
    {
      "cell_type": "code",
      "metadata": {
        "id": "dm1hT_B9jXGu",
        "outputId": "c70a9473-d2ed-4dcc-b212-2537356e2d20",
        "colab": {
          "base_uri": "https://localhost:8080/"
        }
      },
      "source": [
        "5 < 3"
      ],
      "execution_count": 2,
      "outputs": [
        {
          "output_type": "execute_result",
          "data": {
            "text/plain": [
              "False"
            ]
          },
          "metadata": {},
          "execution_count": 2
        }
      ]
    },
    {
      "cell_type": "code",
      "metadata": {
        "id": "BjHkFO4SbEhb",
        "outputId": "5c59ff9f-8622-4126-a92a-50d67fbf6919",
        "colab": {
          "base_uri": "https://localhost:8080/"
        }
      },
      "source": [
        "5 > 3"
      ],
      "execution_count": 3,
      "outputs": [
        {
          "output_type": "execute_result",
          "data": {
            "text/plain": [
              "True"
            ]
          },
          "metadata": {},
          "execution_count": 3
        }
      ]
    },
    {
      "cell_type": "code",
      "metadata": {
        "id": "2DtiCXDAbISf",
        "outputId": "7220aa9c-cdb8-47ea-9094-917954b2225e",
        "colab": {
          "base_uri": "https://localhost:8080/"
        }
      },
      "source": [
        "5 == 3"
      ],
      "execution_count": 4,
      "outputs": [
        {
          "output_type": "execute_result",
          "data": {
            "text/plain": [
              "False"
            ]
          },
          "metadata": {},
          "execution_count": 4
        }
      ]
    },
    {
      "cell_type": "code",
      "metadata": {
        "id": "4Dc_T_mUbPb1",
        "outputId": "588df64c-d139-4f20-e2b5-ca32214e093e",
        "colab": {
          "base_uri": "https://localhost:8080/"
        }
      },
      "source": [
        "5 != 3"
      ],
      "execution_count": 5,
      "outputs": [
        {
          "output_type": "execute_result",
          "data": {
            "text/plain": [
              "True"
            ]
          },
          "metadata": {},
          "execution_count": 5
        }
      ]
    },
    {
      "cell_type": "code",
      "metadata": {
        "id": "XSW7YMtabQ4E"
      },
      "source": [
        "akbar_age = 43\n",
        "antony_age = 53"
      ],
      "execution_count": 6,
      "outputs": []
    },
    {
      "cell_type": "code",
      "metadata": {
        "id": "KVCzBU1xbbm0",
        "outputId": "e0ebe1cd-a0dc-4c7d-ddba-592eef8e8a01",
        "colab": {
          "base_uri": "https://localhost:8080/"
        }
      },
      "source": [
        "akbar_age < antony_age"
      ],
      "execution_count": 7,
      "outputs": [
        {
          "output_type": "execute_result",
          "data": {
            "text/plain": [
              "True"
            ]
          },
          "metadata": {},
          "execution_count": 7
        }
      ]
    },
    {
      "cell_type": "code",
      "metadata": {
        "id": "gs2hOefnbnsF",
        "outputId": "5beb2aca-5dbb-4c95-8e1a-a2f13eab31bd",
        "colab": {
          "base_uri": "https://localhost:8080/"
        }
      },
      "source": [
        "(akbar_age > antony_age)"
      ],
      "execution_count": 8,
      "outputs": [
        {
          "output_type": "execute_result",
          "data": {
            "text/plain": [
              "False"
            ]
          },
          "metadata": {},
          "execution_count": 8
        }
      ]
    },
    {
      "cell_type": "markdown",
      "metadata": {
        "id": "ifAKT3zM3_AF"
      },
      "source": [
        "#### Logical Operators\n",
        "```\n",
        "and\n",
        "or\n",
        "not\n",
        "```"
      ]
    },
    {
      "cell_type": "code",
      "metadata": {
        "id": "wy1D4AdmcVyA",
        "outputId": "f7cb5fe7-ea48-407c-babb-832991a56f96",
        "colab": {
          "base_uri": "https://localhost:8080/"
        }
      },
      "source": [
        "(akbar_age < 40)"
      ],
      "execution_count": 9,
      "outputs": [
        {
          "output_type": "execute_result",
          "data": {
            "text/plain": [
              "False"
            ]
          },
          "metadata": {},
          "execution_count": 9
        }
      ]
    },
    {
      "cell_type": "code",
      "metadata": {
        "id": "EeBrBGomcYEO",
        "outputId": "b7be42e8-e720-4681-e6a6-e3d1aca3771e",
        "colab": {
          "base_uri": "https://localhost:8080/"
        }
      },
      "source": [
        "(antony_age > 40)"
      ],
      "execution_count": 10,
      "outputs": [
        {
          "output_type": "execute_result",
          "data": {
            "text/plain": [
              "True"
            ]
          },
          "metadata": {},
          "execution_count": 10
        }
      ]
    },
    {
      "cell_type": "code",
      "metadata": {
        "id": "O0kjtUXe4K1e",
        "outputId": "6a90a9ca-f1cc-4b76-f7fa-ed3cc55517b7",
        "colab": {
          "base_uri": "https://localhost:8080/"
        }
      },
      "source": [
        "(akbar_age < 40) or (antony_age > 40)"
      ],
      "execution_count": 11,
      "outputs": [
        {
          "output_type": "execute_result",
          "data": {
            "text/plain": [
              "True"
            ]
          },
          "metadata": {},
          "execution_count": 11
        }
      ]
    },
    {
      "cell_type": "code",
      "metadata": {
        "id": "fB52_Yeo0Bv-",
        "outputId": "c5eb26a4-3221-46bc-b1b3-e3e91b943654",
        "colab": {
          "base_uri": "https://localhost:8080/"
        }
      },
      "source": [
        "False or True"
      ],
      "execution_count": 12,
      "outputs": [
        {
          "output_type": "execute_result",
          "data": {
            "text/plain": [
              "True"
            ]
          },
          "metadata": {},
          "execution_count": 12
        }
      ]
    },
    {
      "cell_type": "code",
      "metadata": {
        "id": "mpBhFHZhcprc",
        "outputId": "7dd38e8d-fe40-4063-d7c8-196ebf86bae4",
        "colab": {
          "base_uri": "https://localhost:8080/"
        }
      },
      "source": [
        "(akbar_age < 40) and (antony_age > 40)"
      ],
      "execution_count": 13,
      "outputs": [
        {
          "output_type": "execute_result",
          "data": {
            "text/plain": [
              "False"
            ]
          },
          "metadata": {},
          "execution_count": 13
        }
      ]
    },
    {
      "cell_type": "code",
      "metadata": {
        "id": "mdkmh4K3ct3-",
        "outputId": "fcbe3949-8ace-41e8-8c46-7c841462cfe6",
        "colab": {
          "base_uri": "https://localhost:8080/"
        }
      },
      "source": [
        "False and True"
      ],
      "execution_count": 14,
      "outputs": [
        {
          "output_type": "execute_result",
          "data": {
            "text/plain": [
              "False"
            ]
          },
          "metadata": {},
          "execution_count": 14
        }
      ]
    },
    {
      "cell_type": "code",
      "metadata": {
        "id": "rJUB382Ecz4M",
        "outputId": "53dd1ea3-40db-4ef5-ca1c-c8ff4dc4f664",
        "colab": {
          "base_uri": "https://localhost:8080/"
        }
      },
      "source": [
        "not (akbar_age < 40)"
      ],
      "execution_count": 15,
      "outputs": [
        {
          "output_type": "execute_result",
          "data": {
            "text/plain": [
              "True"
            ]
          },
          "metadata": {},
          "execution_count": 15
        }
      ]
    },
    {
      "cell_type": "code",
      "metadata": {
        "id": "TknwOBHtdAPg",
        "outputId": "b64bea4a-83c3-44e4-c20a-41573f6a9124",
        "colab": {
          "base_uri": "https://localhost:8080/"
        }
      },
      "source": [
        "not False"
      ],
      "execution_count": 16,
      "outputs": [
        {
          "output_type": "execute_result",
          "data": {
            "text/plain": [
              "True"
            ]
          },
          "metadata": {},
          "execution_count": 16
        }
      ]
    },
    {
      "cell_type": "markdown",
      "metadata": {
        "id": "vUAWMNbjiSvf"
      },
      "source": [
        "#### References"
      ]
    },
    {
      "cell_type": "markdown",
      "metadata": {
        "id": "KmpvkMmKiVcZ"
      },
      "source": [
        "1. [Python Operators](https://www.w3schools.com/python/python_operators.asp) and [Python Exercises](https://www.w3schools.com/python/exercise.asp)\n",
        "2. [Official Python Documentation](https://docs.python.org/3/tutorial/introduction.html)\n",
        "\n"
      ]
    }
  ]
}