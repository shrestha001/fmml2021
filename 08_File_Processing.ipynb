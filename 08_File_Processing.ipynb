{
  "nbformat": 4,
  "nbformat_minor": 0,
  "metadata": {
    "colab": {
      "name": "08 File Processing.ipynb",
      "provenance": [],
      "include_colab_link": true
    },
    "kernelspec": {
      "name": "python3",
      "display_name": "Python 3"
    },
    "language_info": {
      "name": "python"
    }
  },
  "cells": [
    {
      "cell_type": "markdown",
      "metadata": {
        "id": "view-in-github",
        "colab_type": "text"
      },
      "source": [
        "<a href=\"https://colab.research.google.com/github/shrestha001/fmml2021/blob/main/08_File_Processing.ipynb\" target=\"_parent\"><img src=\"https://colab.research.google.com/assets/colab-badge.svg\" alt=\"Open In Colab\"/></a>"
      ]
    },
    {
      "cell_type": "code",
      "metadata": {
        "id": "on0OBs9S-eiS",
        "colab": {
          "base_uri": "https://localhost:8080/"
        },
        "outputId": "9d5ea2a9-ba60-4ca1-ded1-c7b1eb1b86ec"
      },
      "source": [
        "!wget https://raw.githubusercontent.com/aosp-mirror/platform_external_protobuf/master/CONTRIBUTORS.txt"
      ],
      "execution_count": null,
      "outputs": [
        {
          "output_type": "stream",
          "name": "stdout",
          "text": [
            "--2021-09-06 08:09:49--  https://raw.githubusercontent.com/aosp-mirror/platform_external_protobuf/master/CONTRIBUTORS.txt\n",
            "Resolving raw.githubusercontent.com (raw.githubusercontent.com)... 185.199.108.133, 185.199.109.133, 185.199.110.133, ...\n",
            "Connecting to raw.githubusercontent.com (raw.githubusercontent.com)|185.199.108.133|:443... connected.\n",
            "HTTP request sent, awaiting response... 200 OK\n",
            "Length: 3924 (3.8K) [text/plain]\n",
            "Saving to: ‘CONTRIBUTORS.txt’\n",
            "\n",
            "CONTRIBUTORS.txt    100%[===================>]   3.83K  --.-KB/s    in 0s      \n",
            "\n",
            "2021-09-06 08:09:49 (39.6 MB/s) - ‘CONTRIBUTORS.txt’ saved [3924/3924]\n",
            "\n"
          ]
        }
      ]
    },
    {
      "cell_type": "code",
      "metadata": {
        "id": "Rg5LcpidAP7I"
      },
      "source": [
        "infile_pointer = open(\"CONTRIBUTORS.txt\", \"r\")\n",
        "outfile_pointer = open(\"emails-id.txt\", \"w\")"
      ],
      "execution_count": null,
      "outputs": []
    },
    {
      "cell_type": "code",
      "metadata": {
        "id": "4yocH5ViAb-g",
        "colab": {
          "base_uri": "https://localhost:8080/"
        },
        "outputId": "f1968002-9b4d-4045-d8fd-682e71725630"
      },
      "source": [
        "for each_line in infile_pointer:\n",
        "  if (each_line.count('@') > 0) and (each_line.count('<') > 0):\n",
        "      print (each_line)\n",
        "      outfile_pointer.write(each_line)\n",
        "infile_pointer.close()\n",
        "outfile_pointer.close()"
      ],
      "execution_count": null,
      "outputs": [
        {
          "output_type": "stream",
          "name": "stdout",
          "text": [
            "  Sanjay Ghemawat <sanjay@google.com>\n",
            "\n",
            "  Jeff Dean <jeff@google.com>\n",
            "\n",
            "  Daniel Dulitz <daniel@google.com>\n",
            "\n",
            "  Paul Haahr <haahr@google.com>\n",
            "\n",
            "  Corey Anderson <corin@google.com>\n",
            "\n",
            "  Kenton Varda <kenton@google.com>\n",
            "\n",
            "  Will Robinson <robinson@google.com>\n",
            "\n",
            "  Petar Petrov <petar@google.com>\n",
            "\n",
            "  Brian Duff <bduff@google.com>\n",
            "\n",
            "  Tom Chao <chaot@google.com>\n",
            "\n",
            "  Max Cai <maxtroy@google.com>\n",
            "\n",
            "  Ulas Kirazci <ulas@google.com>\n",
            "\n",
            "  Jason Hsueh <jasonh@google.com>\n",
            "\n",
            "  Joseph Schorr <jschorr@google.com>\n",
            "\n",
            "  Wenbo Zhu <wenboz@google.com>\n",
            "\n",
            "  Scott Bruce <sbruce@google.com>\n",
            "\n",
            "  Neal Norwitz <nnorwitz@google.com>\n",
            "\n",
            "  Jeffrey Yasskin <jyasskin@google.com>\n",
            "\n",
            "  Ambrose Feinstein <ambrose@google.com>\n",
            "\n",
            "  Lisa Carey <lcarey@google.com>\n",
            "\n",
            "  Gregory Kick <gak@google.com>\n",
            "\n",
            "  Kevin Ko <kevin.s.ko@gmail.com>\n",
            "\n",
            "  Johan Euphrosine <proppy@aminche.com>\n",
            "\n",
            "  Ulrich Kunitz <kune@deine-taler.de>\n",
            "\n",
            "  Leandro Lucarella <llucax@gmail.com>\n",
            "\n",
            "  Dilip Joseph <dilip.antony.joseph@gmail.com>\n",
            "\n",
            "  Brian Atkinson <nairb774@gmail.com>\n",
            "\n",
            "  Vincent Choinière <Choiniere.Vincent@hydro.qc.ca>\n",
            "\n",
            "  Monty Taylor <monty.taylor@gmail.com>\n",
            "\n",
            "  Alek Storm <alek.storm@gmail.com>\n",
            "\n",
            "  Oleg Smolsky <oleg.smolsky@gmail.com>\n",
            "\n",
            "  Brian Olson <brianolson@google.com>\n",
            "\n",
            "  Michael Poole <mdpoole@troilus.org>\n",
            "\n",
            "  Wink Saville <wink@google.com>\n",
            "\n",
            "  Will Pierce <willp@nuclei.com>\n",
            "\n",
            "  Alexandre Vassalotti <alexandre@peadrop.com>\n",
            "\n",
            "  Scott Stafford <scott.stafford@gmail.com>\n",
            "\n",
            "  Alexander Melnikov <alm@sibmail.ru>\n",
            "\n",
            "  Oliver Jowett <oliver.jowett@gmail.com>\n",
            "\n",
            "  Evan Jones <evanj@mit.edu>\n",
            "\n",
            "  Michael Kucharski <m.kucharski@gmail.com>\n",
            "\n",
            "  Kacper Kowalik <xarthisius.kk@gmail.com>\n",
            "\n",
            "  William Orr <will@worrbase.com>\n",
            "\n",
            "  Andrew Paprocki <andrew@ishiboo.com>\n",
            "\n"
          ]
        }
      ]
    },
    {
      "cell_type": "code",
      "metadata": {
        "id": "jcMUd4hNCQiU",
        "colab": {
          "base_uri": "https://localhost:8080/"
        },
        "outputId": "5649ac64-8c1a-403d-b7a7-02aaee9f6368"
      },
      "source": [
        "#!wget https://github.com/mysql/mysql-server/blob/8.0/Docs/sp-imp-spec.txt\n",
        "# Write a program to save all lines that start with '-' in a separate file\n",
        "# Ignore all leading blank characters.\n",
        "!wget https://raw.githubusercontent.com/shrestha001/fmml2021/main/sp-imp-spec.txt\n",
        "infile_pointer = open(\"sp-imp-spec.txt\",\"r\")\n",
        "outfile_pointer = open(\"file2.txt\",\"w\")"
      ],
      "execution_count": 16,
      "outputs": [
        {
          "output_type": "stream",
          "name": "stdout",
          "text": [
            "--2021-09-06 15:53:10--  https://raw.githubusercontent.com/shrestha001/fmml2021/main/sp-imp-spec.txt\n",
            "Resolving raw.githubusercontent.com (raw.githubusercontent.com)... 185.199.108.133, 185.199.111.133, 185.199.109.133, ...\n",
            "Connecting to raw.githubusercontent.com (raw.githubusercontent.com)|185.199.108.133|:443... connected.\n",
            "HTTP request sent, awaiting response... 200 OK\n",
            "Length: 43014 (42K) [text/plain]\n",
            "Saving to: ‘sp-imp-spec.txt.6’\n",
            "\n",
            "\rsp-imp-spec.txt.6     0%[                    ]       0  --.-KB/s               \rsp-imp-spec.txt.6   100%[===================>]  42.01K  --.-KB/s    in 0.01s   \n",
            "\n",
            "2021-09-06 15:53:10 (3.25 MB/s) - ‘sp-imp-spec.txt.6’ saved [43014/43014]\n",
            "\n"
          ]
        }
      ]
    },
    {
      "cell_type": "code",
      "metadata": {
        "id": "quc0s2QnWyMz",
        "colab": {
          "base_uri": "https://localhost:8080/"
        },
        "outputId": "7f3e6da4-bf20-459f-cf9c-be819c7e9fc5"
      },
      "source": [
        "for each_line in infile_pointer:\n",
        "  each_line = each_line.lstrip()\n",
        "  if each_line.startswith('-'):\n",
        "      print(each_line)\n",
        "      outfile_pointer.write(each_line)\n",
        "infile_pointer.close()\n",
        "outfile_pointer.close()  \n"
      ],
      "execution_count": 17,
      "outputs": [
        {
          "output_type": "stream",
          "name": "stdout",
          "text": [
            "- How parsing and execution of queries work\n",
            "\n",
            "- Lex (mentioned above) is the \"compiled\" query, that is the output from\n",
            "\n",
            "- THD is the \"run-time\" state of a connection, containing all that is\n",
            "\n",
            "- Item_*:  During parsing, all data is translated into \"items\", objects of\n",
            "\n",
            "- How to fit Stored Procedure into this scheme\n",
            "\n",
            "- An overview of the classes and files for stored procedures\n",
            "\n",
            "- class sp_head (sp_head.{cc,h})\n",
            "\n",
            "- class sp_pcontext (sp_pcontext.{cc,h}\n",
            "\n",
            "- class sp_instr (sp_head.{cc,h})\n",
            "\n",
            "- sp_instr_stmt\n",
            "\n",
            "- sp_instr_set\n",
            "\n",
            "- sp_instr_jump\n",
            "\n",
            "- sp_instr_jump_if_not\n",
            "\n",
            "- sp_instr_freturn\n",
            "\n",
            "- class sp_rcontext (sp_rcontext.h)\n",
            "\n",
            "- class Item_splocal (Item.{cc,h})\n",
            "\n",
            "- Utility functions (sp.{cc,h})\n",
            "\n",
            "- Parsing CREATE PROCEDURE ...\n",
            "\n",
            "- Parameters:\n",
            "\n",
            "- Declared local variables:\n",
            "\n",
            "- Local Variable references:\n",
            "\n",
            "- Statements:\n",
            "\n",
            "- SET var:\n",
            "\n",
            "- Flow control:\n",
            "\n",
            "- Forward jumps: When jumping forward, the exact destination is not\n",
            "\n",
            "- Loop constructs have optional labels. If a loop doesn't have a\n",
            "\n",
            "- There are two types of CASE. The \"simple\" case is implemented\n",
            "\n",
            "- A simple example\n",
            "\n",
            "- Parsing CREATE FUNCTION ...\n",
            "\n",
            "- Storing, caching, dropping...\n",
            "\n",
            "- CALLing a procedure\n",
            "\n",
            "- USE database\n",
            "\n",
            "- It's possible to write \"general\" procedures that are independent of\n",
            "\n",
            "- It's possible to write procedures that work on a particular database\n",
            "\n",
            "- Evaluating Items\n",
            "\n",
            "- When SETing a variable\n",
            "\n",
            "- When CALLing a procedure\n",
            "\n",
            "- When testing an expression for a branch (in IF, WHILE, etc)\n",
            "\n",
            "- Calling a FUNCTION\n",
            "\n",
            "- Detecting and parsing a FUNCTION invocation\n",
            "\n",
            "- Collecting FUNCTIONs to invoke\n",
            "\n",
            "- We can't read and parse the FUNCTION from the mysql.proc table at the\n",
            "\n",
            "- Parsing DROP PROCEDURE/FUNCTION\n",
            "\n",
            "- Condition and Handlers\n",
            "\n",
            "- sp_instr_hpush_jump\n",
            "\n",
            "- sp_instr_hpop\n",
            "\n",
            "- Examples:\n",
            "\n",
            "- EXIT handler\n",
            "\n",
            "- CONTINUE handler\n",
            "\n",
            "- Cursors\n",
            "\n",
            "- sp_instr_cpush\n",
            "\n",
            "- sp_instr_cpop\n",
            "\n",
            "- sp_instr_copen\n",
            "\n",
            "- sp_instr_cfetch\n",
            "\n",
            "- sp_instr_cclose\n",
            "\n",
            "- Example:\n",
            "\n",
            "- The SP cache\n",
            "\n",
            "- Class and function APIs\n",
            "\n",
            "- The parser context: sp_pcontext.h\n",
            "\n",
            "- The run-time context (call frame): sp_rcontext.h\n",
            "\n",
            "- The procedure: sp_head.h\n",
            "\n",
            "- Instructions\n",
            "\n",
            "- The base class:\n",
            "\n",
            "- Statement instruction:\n",
            "\n",
            "-  SET instruction:\n",
            "\n",
            "- Unconditional jump\n",
            "\n",
            "- Conditional jump\n",
            "\n",
            "- Return a function value\n",
            "\n",
            "- Push a handler and jump\n",
            "\n",
            "- Pops handlers\n",
            "\n",
            "- Return from a CONTINUE handler\n",
            "\n",
            "- Push a CURSOR\n",
            "\n",
            "- Pop CURSORs\n",
            "\n",
            "- Open a CURSOR\n",
            "\n",
            "- Close a CURSOR\n",
            "\n",
            "- Fetch a row with CURSOR\n",
            "\n",
            "- Utility functions: sp.h\n",
            "\n",
            "- The cache: sp_cache.h\n",
            "\n",
            "- The mysql.proc schema:\n",
            "\n",
            "--\n",
            "\n"
          ]
        }
      ]
    },
    {
      "cell_type": "markdown",
      "metadata": {
        "id": "CzILoddNaWPQ"
      },
      "source": [
        "Reference: [Official Python Documentation](https://docs.python.org/3/tutorial/inputoutput.html)\n",
        "\n",
        "String methods: [Link](https://www.w3schools.com/python/python_ref_string.asp)"
      ]
    }
  ]
}