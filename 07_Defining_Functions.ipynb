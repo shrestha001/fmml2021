{
  "nbformat": 4,
  "nbformat_minor": 0,
  "metadata": {
    "colab": {
      "name": "07_Defining_Functions.ipynb",
      "provenance": [],
      "include_colab_link": true
    },
    "kernelspec": {
      "name": "python3",
      "display_name": "Python 3"
    },
    "language_info": {
      "name": "python"
    }
  },
  "cells": [
    {
      "cell_type": "markdown",
      "metadata": {
        "id": "view-in-github",
        "colab_type": "text"
      },
      "source": [
        "<a href=\"https://colab.research.google.com/github/shrestha001/fmml2021/blob/main/07_Defining_Functions.ipynb\" target=\"_parent\"><img src=\"https://colab.research.google.com/assets/colab-badge.svg\" alt=\"Open In Colab\"/></a>"
      ]
    },
    {
      "cell_type": "code",
      "metadata": {
        "id": "1pqsgNqwnbHE"
      },
      "source": [
        "def inList (my_char, my_list=['a','e','i','o','u']):\n",
        "  \"\"\" this is a function to check whether a char is vowel or not \"\"\"\n",
        "  for each_char in my_list:\n",
        "    if each_char == my_char.lower():\n",
        "      return True\n",
        "  return False"
      ],
      "execution_count": null,
      "outputs": []
    },
    {
      "cell_type": "code",
      "metadata": {
        "id": "SLpNGCWYn6Er",
        "colab": {
          "base_uri": "https://localhost:8080/"
        },
        "outputId": "044aaa07-f09f-4b0e-a68a-5cfe66206fd6"
      },
      "source": [
        "inList('Z' , ['x', 'y', 'z'])"
      ],
      "execution_count": null,
      "outputs": [
        {
          "output_type": "execute_result",
          "data": {
            "text/plain": [
              "True"
            ]
          },
          "metadata": {},
          "execution_count": 3
        }
      ]
    },
    {
      "cell_type": "code",
      "metadata": {
        "id": "r_KUNOW3rCc6",
        "colab": {
          "base_uri": "https://localhost:8080/"
        },
        "outputId": "69b393af-510a-4802-b4ab-143a6681b24c"
      },
      "source": [
        "# Write a function to check whether a given number belongs to fibonacci series or not\n",
        "def fibo(n):\n",
        "    a=0\n",
        "    b=z=1\n",
        "    f=0\n",
        "    if (n is 0 or n is 1):\n",
        "      f=1\n",
        "      print(\"{} is belongs to fibonacci series\".format(n)) \n",
        "    else:\n",
        "      while(z <= n):\n",
        "        a=b\n",
        "        b=z\n",
        "        z=a+b\n",
        "        if (z==n):\n",
        "          return True\n",
        "    return False     \n",
        "fibo(10946)        \n",
        "    "
      ],
      "execution_count": 1,
      "outputs": [
        {
          "output_type": "execute_result",
          "data": {
            "text/plain": [
              "True"
            ]
          },
          "metadata": {},
          "execution_count": 1
        }
      ]
    },
    {
      "cell_type": "markdown",
      "metadata": {
        "id": "3hfExC9BPkKK"
      },
      "source": [
        "Reference: [Python Documentation on Functions](https://docs.python.org/3/tutorial/controlflow.html#defining-functions)"
      ]
    }
  ]
}